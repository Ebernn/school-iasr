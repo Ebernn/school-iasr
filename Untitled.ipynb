{
 "cells": [
  {
   "cell_type": "code",
   "execution_count": null,
   "id": "cc10375e",
   "metadata": {},
   "outputs": [],
   "source": [
    "import numpy as np\n",
    "import cv2 as cv\n",
    "from matplotlib import pyplot as plt\n",
    "\n",
    "def grab_cut(relative_path):\n",
    "    img = cv.imread(relative_path)\n",
    "    cv.imshow('image',img)\n",
    "    # plt.imshow(img)\n",
    "    # mask = np.zeros(img.shape[:2],np.uint8)\n",
    "    # bgdModel = np.zeros((1,65),np.float64)\n",
    "    # fgdModel = np.zeros((1,65),np.float64)\n",
    "    # rect = (50,50,450,290)\n",
    "    # cv.grabCut(img,mask,rect,bgdModel,fgdModel,5,cv.GC_INIT_WITH_RECT)\n",
    "    # mask2 = np.where((mask==2)|(mask==0),0,1).astype('uint8')\n",
    "    # img = img*mask2[:,:,np.newaxis]\n",
    "    # plt.imshow(img),plt.colorbar(),plt.show()\n",
    "\n",
    "grab_cut('dataset/dataset/train/rottenapples/pooname.png')\n"
   ]
  },
  {
   "cell_type": "code",
   "execution_count": null,
   "id": "9bdfae8f",
   "metadata": {},
   "outputs": [],
   "source": []
  },
  {
   "cell_type": "code",
   "execution_count": null,
   "id": "bfadc37f",
   "metadata": {},
   "outputs": [],
   "source": []
  },
  {
   "cell_type": "code",
   "execution_count": null,
   "id": "8cc54dd5",
   "metadata": {},
   "outputs": [],
   "source": []
  },
  {
   "cell_type": "code",
   "execution_count": null,
   "id": "69a3834e",
   "metadata": {},
   "outputs": [],
   "source": []
  }
 ],
 "metadata": {
  "kernelspec": {
   "display_name": "Python 3 (ipykernel)",
   "language": "python",
   "name": "python3"
  },
  "language_info": {
   "codemirror_mode": {
    "name": "ipython",
    "version": 3
   },
   "file_extension": ".py",
   "mimetype": "text/x-python",
   "name": "python",
   "nbconvert_exporter": "python",
   "pygments_lexer": "ipython3",
   "version": "3.9.5"
  }
 },
 "nbformat": 4,
 "nbformat_minor": 5
}
